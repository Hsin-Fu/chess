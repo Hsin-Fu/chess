{
 "cells": [
  {
   "cell_type": "code",
   "execution_count": null,
   "id": "55489fce",
   "metadata": {},
   "outputs": [],
   "source": [
    "%matplotlib inline\n",
    "import random\n",
    "import numpy as np \n",
    "import pandas as pd \n",
    "import cv2\n",
    "import matplotlib.pyplot as plt\n",
    "import tensorflow as tf\n",
    "import os\n",
    "from tensorflow.keras.models import Sequential\n",
    "from tensorflow.keras.layers import Dense, Flatten, Dropout, Activation, Conv2D, MaxPooling2D"
   ]
  },
  {
   "cell_type": "code",
   "execution_count": null,
   "id": "77c18f59",
   "metadata": {},
   "outputs": [],
   "source": [
    "train_King = \"King\"\n",
    "path_King = os.path.join(train_King)\n",
    "\n",
    "train_Knight = \"Knight\"\n",
    "path_Knight = os.path.join(train_Knight)\n",
    "\n",
    "X = []\n",
    "y = []\n",
    "\n",
    "convert = lambda category : int(category == 'King')\n",
    "\n",
    "def create_test_data(path):\n",
    "    for i in os.listdir(path):        #all item in train\n",
    "        category = os.path.join(path)    #file name\n",
    "        category = convert(category)  #King or Knight\n",
    "        \n",
    "        #input image and grayscale\n",
    "        img_array = cv2.imread(os.path.join(path,i),cv2.IMREAD_GRAYSCALE)\n",
    "        \n",
    "        #resize\n",
    "        new_img_array = cv2.resize(img_array, dsize=(80, 80))\n",
    "        \n",
    "        X.append(new_img_array)\n",
    "        y.append(category)\n",
    "        \n",
    "create_test_data(path_King)\n",
    "create_test_data(path_Knight)\n",
    "X = np.array(X).reshape(-1, 80,80,1)\n",
    "y = np.array(y)\n",
    "\n",
    "#Normalize data\n",
    "X = X/255.0"
   ]
  },
  {
   "cell_type": "code",
   "execution_count": null,
   "id": "f8c9babd",
   "metadata": {},
   "outputs": [],
   "source": [
    "model = Sequential()\n",
    "\n",
    "model.add(Conv2D(32, (5,5),  input_shape = X.shape[1:]))\n",
    "model.add(Activation('relu'))\n",
    "model.add(MaxPooling2D(pool_size=(2,2)))\n",
    "\n",
    "model.add(Conv2D(64, (5,5)))\n",
    "model.add(Activation('relu'))\n",
    "model.add(MaxPooling2D(pool_size=(2,2)))\n",
    "\n",
    "model.add(Conv2D(128, (5,5)))\n",
    "model.add(Activation('relu'))\n",
    "model.add(MaxPooling2D(pool_size=(2,2)))\n",
    "\n",
    "model.add(Flatten())\n",
    "\n",
    "model.add(Dense(10))\n",
    "model.add(Activation('sigmoid'))\n",
    "\n",
    "model.add(Dense(1, activation='sigmoid'))\n",
    "\n",
    "model.compile(optimizer=\"adam\",\n",
    "              loss='binary_crossentropy',\n",
    "              metrics=['accuracy'])"
   ]
  },
  {
   "cell_type": "code",
   "execution_count": null,
   "id": "7f8fdce4",
   "metadata": {},
   "outputs": [],
   "source": [
    "model.fit(X, y, epochs=20, batch_size=50)"
   ]
  },
  {
   "cell_type": "code",
   "execution_count": null,
   "id": "22de9720",
   "metadata": {},
   "outputs": [],
   "source": [
    "model.save('model.h5')  # creates a HDF5 file 'model.h5'"
   ]
  },
  {
   "cell_type": "code",
   "execution_count": null,
   "id": "1676f564",
   "metadata": {},
   "outputs": [],
   "source": [
    "predictions = model.predict(X)\n",
    "predicted_val = [int(round(p[0])) for p in predictions]"
   ]
  },
  {
   "cell_type": "code",
   "execution_count": null,
   "id": "8b5d0f71",
   "metadata": {},
   "outputs": [],
   "source": [
    "#result\n",
    "tmp = random.randint(0, len(X)-1)    \n",
    "plt.imshow(X[tmp]*255)\n",
    "if predicted_val[tmp] == 0:\n",
    "    print('Knight')\n",
    "else:\n",
    "    print('King')"
   ]
  },
  {
   "cell_type": "code",
   "execution_count": null,
   "id": "9a665c4c",
   "metadata": {},
   "outputs": [],
   "source": [
    "cv2.imshow('My Image', X[7]*255)\n",
    "cv2.waitKey(0)\n",
    "cv2.destroyAllWindows()"
   ]
  },
  {
   "cell_type": "code",
   "execution_count": null,
   "id": "484e9434",
   "metadata": {},
   "outputs": [],
   "source": []
  },
  {
   "cell_type": "code",
   "execution_count": null,
   "id": "796ae877",
   "metadata": {},
   "outputs": [],
   "source": []
  }
 ],
 "metadata": {
  "kernelspec": {
   "display_name": "Python (tf)",
   "language": "python",
   "name": "myenv"
  },
  "language_info": {
   "codemirror_mode": {
    "name": "ipython",
    "version": 3
   },
   "file_extension": ".py",
   "mimetype": "text/x-python",
   "name": "python",
   "nbconvert_exporter": "python",
   "pygments_lexer": "ipython3",
   "version": "3.8.10"
  }
 },
 "nbformat": 4,
 "nbformat_minor": 5
}
